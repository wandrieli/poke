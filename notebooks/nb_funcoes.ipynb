{
 "cells": [
  {
   "cell_type": "code",
   "execution_count": 0,
   "metadata": {
    "application/vnd.databricks.v1+cell": {
     "cellMetadata": {
      "byteLimit": 2048000,
      "rowLimit": 10000
     },
     "inputWidgets": {},
     "nuid": "d87478d3-e52c-4f16-8f9a-65eeddcd8ecd",
     "showTitle": false,
     "tableResultSettingsMap": {},
     "title": ""
    }
   },
   "outputs": [],
   "source": [
    "#importação de bibliotecas necessárias\n",
    "import requests\n",
    "import json\n",
    "from pyspark.sql import SparkSession\n",
    "from pyspark.sql.types import StructType, StructField, StringType, IntegerType, ArrayType\n",
    "from pyspark.sql import DataFrame\n",
    "from pyspark.sql.functions import col, element_at, size, lit, try_element_at"
   ]
  },
  {
   "cell_type": "code",
   "execution_count": 0,
   "metadata": {
    "application/vnd.databricks.v1+cell": {
     "cellMetadata": {
      "byteLimit": 2048000,
      "rowLimit": 10000
     },
     "inputWidgets": {},
     "nuid": "fa39ab00-24ea-4e19-a094-5a9456325331",
     "showTitle": false,
     "tableResultSettingsMap": {},
     "title": ""
    }
   },
   "outputs": [],
   "source": [
    "def get_pokemon(limit=20, offset=0):\n",
    "    url = f\"https://pokeapi.co/api/v2/pokemon?limit={limit}&offset={offset}\"\n",
    "    response = requests.get(url)\n",
    "    if response.status_code == 200:\n",
    "        data = response.json()[\"results\"]\n",
    "        pokemons = []\n",
    "        for p in data:\n",
    "            # Chama o detalhe do Pokémon\n",
    "            poke_detail = requests.get(p[\"url\"]).json()\n",
    "            pokemons.append({\n",
    "                \"id\": poke_detail[\"id\"],\n",
    "                \"name\": poke_detail[\"name\"],\n",
    "                \"base_experience\": poke_detail.get(\"base_experience\"),\n",
    "                \"height\": poke_detail.get(\"height\"),\n",
    "                \"weight\": poke_detail.get(\"weight\"),\n",
    "                \"types\": [t[\"type\"][\"name\"] for t in poke_detail[\"types\"]]\n",
    "            })\n",
    "        return pokemons\n",
    "    else:\n",
    "        return []\n",
    "\n"
   ]
  },
  {
   "cell_type": "code",
   "execution_count": 0,
   "metadata": {
    "application/vnd.databricks.v1+cell": {
     "cellMetadata": {
      "byteLimit": 2048000,
      "rowLimit": 10000
     },
     "inputWidgets": {},
     "nuid": "7466e8f8-9806-4487-981b-865d4a9b678b",
     "showTitle": false,
     "tableResultSettingsMap": {},
     "title": ""
    }
   },
   "outputs": [],
   "source": [
    "def pipeline_pokes(spark):\n",
    "    dados = get_pokemon()\n",
    "\n",
    "    schema = StructType([\n",
    "        StructField(\"id\", IntegerType(), True),\n",
    "        StructField(\"name\", StringType(), True),\n",
    "        StructField(\"base_experience\", IntegerType(), True),\n",
    "        StructField(\"height\", IntegerType(), True),\n",
    "        StructField(\"weight\", IntegerType(), True),\n",
    "        StructField(\"types\", ArrayType(StringType()), True)\n",
    "    ])\n",
    "\n",
    "    df = spark.createDataFrame(dados, schema=schema)\n",
    "\n",
    "    df = df \\\n",
    "        .withColumn(\"type1\", try_element_at(col(\"types\"), 1)) \\\n",
    "        .withColumn(\"type2\", try_element_at(col(\"types\"), 2)) \\\n",
    "        .drop(\"types\")\n",
    "\n",
    "    return df\n",
    " "
   ]
  }
 ],
 "metadata": {
  "application/vnd.databricks.v1+notebook": {
   "computePreferences": null,
   "dashboards": [],
   "environmentMetadata": {
    "base_environment": "",
    "environment_version": "3"
   },
   "inputWidgetPreferences": null,
   "language": "python",
   "notebookMetadata": {
    "pythonIndentUnit": 4
   },
   "notebookName": "nb_funcoes",
   "widgets": {}
  },
  "language_info": {
   "name": "python"
  }
 },
 "nbformat": 4,
 "nbformat_minor": 0
}
